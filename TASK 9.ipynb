{
  "nbformat": 4,
  "nbformat_minor": 0,
  "metadata": {
    "colab": {
      "name": "TASK 9.ipynb",
      "provenance": [],
      "include_colab_link": true
    },
    "kernelspec": {
      "name": "python3",
      "display_name": "Python 3"
    },
    "language_info": {
      "name": "python"
    }
  },
  "cells": [
    {
      "cell_type": "markdown",
      "metadata": {
        "id": "view-in-github",
        "colab_type": "text"
      },
      "source": [
        "<a href=\"https://colab.research.google.com/github/coding-sorcerer-1/LEARN.PY/blob/main/TASK%209.ipynb\" target=\"_parent\"><img src=\"https://colab.research.google.com/assets/colab-badge.svg\" alt=\"Open In Colab\"/></a>"
      ]
    },
    {
      "cell_type": "markdown",
      "metadata": {
        "id": "CBOQ3rFElEb0"
      },
      "source": [
        "1. Create an 4x4 array containing the values ranging from 0 - 15 (use arange function). Then ,\n",
        "  \n",
        "  a) split it equally along horizontal.\n",
        "\n",
        "  b) split it as 4 parts vertically.\n",
        "\n"
      ]
    },
    {
      "cell_type": "code",
      "metadata": {
        "id": "pKy4fjS_m3XD",
        "outputId": "13193837-07be-4d22-eacf-812a48ce0f61",
        "colab": {
          "base_uri": "https://localhost:8080/"
        }
      },
      "source": [
        "#please provide your answer below this line\n",
        "import numpy as np\n",
        "a=np.random.randint(15, size=(4,4))\n",
        "print(\"HORIZONTAL\\n\")\n",
        "print(np.hsplit(a, 4))\n",
        "print(\"\\nVERTICAL\\n\")\n",
        "print(np.vsplit(a,4))\n",
        "\n"
      ],
      "execution_count": 1,
      "outputs": [
        {
          "output_type": "stream",
          "text": [
            "HORIZONTAL\n",
            "\n",
            "[array([[ 8],\n",
            "       [ 5],\n",
            "       [13],\n",
            "       [ 8]]), array([[12],\n",
            "       [ 2],\n",
            "       [ 3],\n",
            "       [14]]), array([[7],\n",
            "       [2],\n",
            "       [7],\n",
            "       [5]]), array([[10],\n",
            "       [ 7],\n",
            "       [ 5],\n",
            "       [ 8]])]\n",
            "\n",
            "VERTICAL\n",
            "\n",
            "[array([[ 8, 12,  7, 10]]), array([[5, 2, 2, 7]]), array([[13,  3,  7,  5]]), array([[ 8, 14,  5,  8]])]\n"
          ],
          "name": "stdout"
        }
      ]
    },
    {
      "cell_type": "markdown",
      "metadata": {
        "id": "ORtqWRAeoMvn"
      },
      "source": [
        "2. Create a 3x3 matrix using random module and then,\n",
        "\n",
        "  a) Find the ceil of the matrix.\n",
        "  \n",
        "  b) Find the floor of the matrix."
      ]
    },
    {
      "cell_type": "code",
      "metadata": {
        "id": "kt_CO_v9qpU-",
        "outputId": "c56a6520-c820-4444-bea1-74925f93b4a7",
        "colab": {
          "base_uri": "https://localhost:8080/"
        }
      },
      "source": [
        "#please provide your answer below this line\n",
        "import numpy as np\n",
        "a=np.random.rand(3,3)\n",
        "print(a)\n",
        "print(\"\\nCEIL\")\n",
        "print(np.ceil(a))\n",
        "print(\"\\nFLOOR\")\n",
        "print(np.floor(a))\n"
      ],
      "execution_count": 2,
      "outputs": [
        {
          "output_type": "stream",
          "text": [
            "[[0.21870562 0.92508598 0.15102706]\n",
            " [0.70717126 0.46794832 0.93321764]\n",
            " [0.06393418 0.11663169 0.67577352]]\n",
            "\n",
            "CEIL\n",
            "[[1. 1. 1.]\n",
            " [1. 1. 1.]\n",
            " [1. 1. 1.]]\n",
            "\n",
            "FLOOR\n",
            "[[0. 0. 0.]\n",
            " [0. 0. 0.]\n",
            " [0. 0. 0.]]\n"
          ],
          "name": "stdout"
        }
      ]
    },
    {
      "cell_type": "markdown",
      "metadata": {
        "id": "oln9t19WqzBb"
      },
      "source": [
        "3. Create a random 1x4 array and print the random array and its shape.\n",
        "    \n",
        "      (use the shape function for finding the shape & use the same random we created here for both the below operations.)\n",
        "\n",
        "  a) Squeeze the random array and print the squeezed array and its shape.\n",
        "  b) Expand the random array by one axis and print the expanded array and its shape."
      ]
    },
    {
      "cell_type": "code",
      "metadata": {
        "id": "cbGGwRo3vpVX",
        "outputId": "551a9c6a-8ef1-4dc7-acca-b35c23fe112c",
        "colab": {
          "base_uri": "https://localhost:8080/"
        }
      },
      "source": [
        "#please provide your answer below this line.\n",
        "import numpy as np\n",
        "a=np.random.rand(1,4)\n",
        "print(a)\n",
        "print(a.shape)\n",
        "print(\"\\nSQUEEZED ARRAY\")\n",
        "A=(np.squeeze(a, axis=0))\n",
        "print(A)\n",
        "print(A.shape)\n",
        "print(\"\\nEXPANDED ARRAY\")\n",
        "E=(np.expand_dims(a, axis=0))\n",
        "print(E)\n",
        "print(E.shape)"
      ],
      "execution_count": 3,
      "outputs": [
        {
          "output_type": "stream",
          "text": [
            "[[0.3531694  0.44322953 0.19478408 0.24489121]]\n",
            "(1, 4)\n",
            "\n",
            "SQUEEZED ARRAY\n",
            "[0.3531694  0.44322953 0.19478408 0.24489121]\n",
            "(4,)\n",
            "\n",
            "EXPANDED ARRAY\n",
            "[[[0.3531694  0.44322953 0.19478408 0.24489121]]]\n",
            "(1, 1, 4)\n"
          ],
          "name": "stdout"
        }
      ]
    }
  ]
}