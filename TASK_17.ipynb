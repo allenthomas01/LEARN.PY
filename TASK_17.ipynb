{
  "nbformat": 4,
  "nbformat_minor": 0,
  "metadata": {
    "colab": {
      "name": "TASK 17.ipynb",
      "provenance": [],
      "include_colab_link": true
    },
    "kernelspec": {
      "name": "python3",
      "display_name": "Python 3"
    },
    "language_info": {
      "name": "python"
    }
  },
  "cells": [
    {
      "cell_type": "markdown",
      "metadata": {
        "id": "view-in-github",
        "colab_type": "text"
      },
      "source": [
        "<a href=\"https://colab.research.google.com/github/coding-sorcerer-1/LEARN.PY/blob/main/TASK_17.ipynb\" target=\"_parent\"><img src=\"https://colab.research.google.com/assets/colab-badge.svg\" alt=\"Open In Colab\"/></a>"
      ]
    },
    {
      "cell_type": "markdown",
      "metadata": {
        "id": "0SLapvpoaeYY"
      },
      "source": [
        "1. Create a DataFrame by passing a random numpy array,with a datetie index and labelled columns.and display its,\n",
        "     - Head\n",
        "     - Tail\n",
        "     - Index \n",
        "     - Columns\n",
        "     - Values\n",
        "     - statistics\n"
      ]
    },
    {
      "cell_type": "code",
      "metadata": {
        "id": "zJDkjyVxa5yU",
        "outputId": "8bf8a072-3c59-4ad2-d113-58e9fc47d3a3",
        "colab": {
          "base_uri": "https://localhost:8080/"
        }
      },
      "source": [
        "#please type your answer below this line.\n",
        "import numpy as np\n",
        "import pandas as pd\n",
        "datetime = pd.date_range('2021-08-24',periods=4)\n",
        "x = pd.DataFrame(np.random.randn(4,4), index=datetime, columns=list('ABCD'))\n",
        "print(\"Head \")\n",
        "print(x.head(),\"\\n\")\n",
        "print(\"Tail \")\n",
        "print(x.tail(),\"\\n\")\n",
        "print(\"Index \")\n",
        "print(x.index,\"\\n\")\n",
        "print(\"Columns \")\n",
        "print(x.columns,\"\\n\")\n",
        "print(\"Values \")\n",
        "print(x.values,\"\\n\")\n",
        "print(\"Statistics \")\n",
        "print(x.describe(),\"\\n\")"
      ],
      "execution_count": 3,
      "outputs": [
        {
          "output_type": "stream",
          "name": "stdout",
          "text": [
            "Head \n",
            "                   A         B         C         D\n",
            "2021-08-24  0.421877 -0.200039 -0.236355 -0.371284\n",
            "2021-08-25  0.165848 -0.761007 -2.224645  0.923465\n",
            "2021-08-26  1.020591  0.079978 -0.081378  1.004786\n",
            "2021-08-27 -0.227813  1.773181  0.789048  1.138915 \n",
            "\n",
            "Tail \n",
            "                   A         B         C         D\n",
            "2021-08-24  0.421877 -0.200039 -0.236355 -0.371284\n",
            "2021-08-25  0.165848 -0.761007 -2.224645  0.923465\n",
            "2021-08-26  1.020591  0.079978 -0.081378  1.004786\n",
            "2021-08-27 -0.227813  1.773181  0.789048  1.138915 \n",
            "\n",
            "Index \n",
            "DatetimeIndex(['2021-08-24', '2021-08-25', '2021-08-26', '2021-08-27'], dtype='datetime64[ns]', freq='D') \n",
            "\n",
            "Columns \n",
            "Index(['A', 'B', 'C', 'D'], dtype='object') \n",
            "\n",
            "Values \n",
            "[[ 0.42187744 -0.20003945 -0.23635529 -0.37128415]\n",
            " [ 0.16584848 -0.76100739 -2.22464541  0.92346497]\n",
            " [ 1.02059101  0.07997755 -0.08137817  1.00478581]\n",
            " [-0.22781334  1.77318126  0.78904843  1.13891513]] \n",
            "\n",
            "Statistics \n",
            "              A         B         C         D\n",
            "count  4.000000  4.000000  4.000000  4.000000\n",
            "mean   0.345126  0.223028 -0.438333  0.673970\n",
            "std    0.523623  1.090986  1.273524  0.702476\n",
            "min   -0.227813 -0.761007 -2.224645 -0.371284\n",
            "25%    0.067433 -0.340281 -0.733428  0.599778\n",
            "50%    0.293863 -0.060031 -0.158867  0.964125\n",
            "75%    0.571556  0.503278  0.136228  1.038318\n",
            "max    1.020591  1.773181  0.789048  1.138915 \n",
            "\n"
          ]
        }
      ]
    },
    {
      "cell_type": "markdown",
      "metadata": {
        "id": "xnkA2mKDdyoO"
      },
      "source": [
        "2. Use the above table and,\n",
        "      - find transpose of your data.\n",
        "      - sort the index in the descending order of the date."
      ]
    },
    {
      "cell_type": "code",
      "metadata": {
        "id": "uqcQSEOufJ5P",
        "outputId": "614915c8-9439-4ef8-a7a7-6bb020acdb5d",
        "colab": {
          "base_uri": "https://localhost:8080/"
        }
      },
      "source": [
        "#please provide your answer below this line.\n",
        "print(\"Transpose\")\n",
        "print(x.transpose(),\"\\n\")\n",
        "print(\"Descending Order \")\n",
        "print(x.sort_index(ascending=False))"
      ],
      "execution_count": 2,
      "outputs": [
        {
          "output_type": "stream",
          "name": "stdout",
          "text": [
            "Transpose\n",
            "   2021-08-24  2021-08-25  2021-08-26  2021-08-27\n",
            "A    0.522189    0.370678    0.233585    1.000028\n",
            "B   -0.388090   -1.092135   -0.986084   -0.395187\n",
            "C   -2.211833    0.992360   -1.176834    0.738532\n",
            "D   -0.434990    2.103375   -0.240729    1.371093 \n",
            "\n",
            "Descending Order \n",
            "                   A         B         C         D\n",
            "2021-08-27  1.000028 -0.395187  0.738532  1.371093\n",
            "2021-08-26  0.233585 -0.986084 -1.176834 -0.240729\n",
            "2021-08-25  0.370678 -1.092135  0.992360  2.103375\n",
            "2021-08-24  0.522189 -0.388090 -2.211833 -0.434990\n"
          ]
        }
      ]
    },
    {
      "cell_type": "markdown",
      "metadata": {
        "id": "ss7s_8iDbAcL"
      },
      "source": [
        ""
      ]
    }
  ]
}