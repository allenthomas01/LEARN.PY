{
  "nbformat": 4,
  "nbformat_minor": 0,
  "metadata": {
    "colab": {
      "name": "TASK 18.ipynb",
      "provenance": [],
      "include_colab_link": true
    },
    "kernelspec": {
      "name": "python3",
      "display_name": "Python 3"
    },
    "language_info": {
      "name": "python"
    }
  },
  "cells": [
    {
      "cell_type": "markdown",
      "metadata": {
        "id": "view-in-github",
        "colab_type": "text"
      },
      "source": [
        "<a href=\"https://colab.research.google.com/github/coding-sorcerer-1/LEARN.PY/blob/main/TASK_18.ipynb\" target=\"_parent\"><img src=\"https://colab.research.google.com/assets/colab-badge.svg\" alt=\"Open In Colab\"/></a>"
      ]
    },
    {
      "cell_type": "markdown",
      "metadata": {
        "id": "_JgXT8pEAjU4"
      },
      "source": [
        "1. \n",
        "Create a DataFrame by passing a random numpy array,with a datetie index and labelled columns.and,\n",
        "    - slice its first three rows and display.\n",
        "    - slice its odd indexed rows.\n",
        "    - display the dates from 1st postion to 4 th position."
      ]
    },
    {
      "cell_type": "code",
      "metadata": {
        "id": "5zFM5VOJBKBV",
        "outputId": "03db5f66-a0ee-495d-bf1a-03fd15c0d7ac",
        "colab": {
          "base_uri": "https://localhost:8080/"
        }
      },
      "source": [
        "#please provide your answer below this line.\n",
        "import numpy as np\n",
        "import pandas as pd\n",
        "datetime = pd.date_range('2021-08-24',periods=5)\n",
        "x = pd.DataFrame(np.random.randn(5,5),index=datetime,columns=list('ABCDE'))\n",
        "print(\"First three rows \")\n",
        "print(x.iloc[0:3],\"\\n\")\n",
        "print(\"Odd indexed rows\")\n",
        "print(x.iloc[1::2],\"\\n\")\n",
        "print(\"1st to 4 th position \")\n",
        "print(x.iloc[1:5])\n",
        "\n"
      ],
      "execution_count": 1,
      "outputs": [
        {
          "output_type": "stream",
          "name": "stdout",
          "text": [
            "First three rows \n",
            "                   A         B         C         D         E\n",
            "2021-08-24 -0.565228 -0.115636  1.707354 -0.942609  1.341670\n",
            "2021-08-25  1.435859  0.271353 -1.203179  1.730332 -0.833785\n",
            "2021-08-26  1.749275 -1.299070 -0.167742  1.111288  1.824536 \n",
            "\n",
            "Odd indexed rows\n",
            "                   A         B         C         D         E\n",
            "2021-08-25  1.435859  0.271353 -1.203179  1.730332 -0.833785\n",
            "2021-08-27 -0.174816 -2.061441  0.987584  1.325488 -1.462792 \n",
            "\n",
            "1st to 4 th position \n",
            "                   A         B         C         D         E\n",
            "2021-08-25  1.435859  0.271353 -1.203179  1.730332 -0.833785\n",
            "2021-08-26  1.749275 -1.299070 -0.167742  1.111288  1.824536\n",
            "2021-08-27 -0.174816 -2.061441  0.987584  1.325488 -1.462792\n",
            "2021-08-28 -0.334185 -0.426849 -1.295995 -1.379117  0.218516\n"
          ]
        }
      ]
    },
    {
      "cell_type": "markdown",
      "metadata": {
        "id": "QuoucvjxBPmX"
      },
      "source": [
        "2. Create a DataFrame by passing a random numpy array,with a datetie index and labelled columns.and\n",
        "  - Dislplay the index from the 1 to 3 date and the columns A and B of respective data.\n",
        "  - Display the datas at the 3rd index.\n",
        "  - Display datas from 2nd to 5th.\n",
        "  - Display the datas from the index 1,2,4 and the column 0 and 2."
      ]
    },
    {
      "cell_type": "code",
      "metadata": {
        "id": "qV_wzsp1DUKI",
        "outputId": "e697916a-0246-4781-cd03-ba5d8df75f30",
        "colab": {
          "base_uri": "https://localhost:8080/"
        }
      },
      "source": [
        "#please provide your answer below thins line.\n",
        "import numpy as np\n",
        "import pandas as pd\n",
        "datetime = pd.date_range('2021-08-24',periods=8)\n",
        "x=pd.DataFrame(np.random.randn(8,8),index=datetime, columns=list('ABCDEFGH'))\n",
        "print(\"Index 1 to 3 date and the columns A and B\")\n",
        "print(x.iloc[0:3,0:2],\"\\n\")\n",
        "print(\"Datas at the 3rd index \")\n",
        "print(x.iloc[3:4],\"\\n\")\n",
        "print(\"Datas from 2nd to 5th \")\n",
        "print(x.iloc[2:6],\"\\n\")\n",
        "print(\"Datas from the index 1,2,4 and the column 0 and 2 \")\n",
        "print(x.iloc[[1,2,4],[0,2]])\n"
      ],
      "execution_count": 5,
      "outputs": [
        {
          "output_type": "stream",
          "name": "stdout",
          "text": [
            "Index 1 to 3 date and the columns A and B\n",
            "                   A         B\n",
            "2021-08-24  0.241745 -0.274925\n",
            "2021-08-25  0.394655 -2.198116\n",
            "2021-08-26 -1.368918  1.570223 \n",
            "\n",
            "Datas at the 3rd index \n",
            "                  A         B         C  ...         F        G         H\n",
            "2021-08-27 -0.56471 -0.667082 -0.403039  ...  0.980261  0.31758  2.161624\n",
            "\n",
            "[1 rows x 8 columns] \n",
            "\n",
            "Datas from 2nd to 5th \n",
            "                   A         B         C  ...         F         G         H\n",
            "2021-08-26 -1.368918  1.570223 -0.901608  ...  0.223484 -0.223542  0.362072\n",
            "2021-08-27 -0.564710 -0.667082 -0.403039  ...  0.980261  0.317580  2.161624\n",
            "2021-08-28 -0.672743 -0.325796  0.984463  ... -0.763146  1.772701 -1.449990\n",
            "2021-08-29 -0.305115  1.189450 -0.095356  ...  0.322166  0.016047 -0.294811\n",
            "\n",
            "[4 rows x 8 columns] \n",
            "\n",
            "Datas from the index 1,2,4 and the column 0 and 2 \n",
            "                   A         C\n",
            "2021-08-25  0.394655  1.394159\n",
            "2021-08-26 -1.368918 -0.901608\n",
            "2021-08-28 -0.672743  0.984463\n"
          ]
        }
      ]
    }
  ]
}