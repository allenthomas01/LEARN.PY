{
  "nbformat": 4,
  "nbformat_minor": 0,
  "metadata": {
    "colab": {
      "name": "TASK 13.ipynb",
      "provenance": [],
      "include_colab_link": true
    },
    "kernelspec": {
      "name": "python3",
      "display_name": "Python 3"
    },
    "language_info": {
      "name": "python"
    }
  },
  "cells": [
    {
      "cell_type": "markdown",
      "metadata": {
        "id": "view-in-github",
        "colab_type": "text"
      },
      "source": [
        "<a href=\"https://colab.research.google.com/github/coding-sorcerer-1/LEARN.PY/blob/main/TASK%2013.ipynb\" target=\"_parent\"><img src=\"https://colab.research.google.com/assets/colab-badge.svg\" alt=\"Open In Colab\"/></a>"
      ]
    },
    {
      "cell_type": "markdown",
      "metadata": {
        "id": "RUSoRkrOqNwf"
      },
      "source": [
        "1. Create a 3x3 array values ranging from 0-8.Find the sum of the elements in this array."
      ]
    },
    {
      "cell_type": "code",
      "metadata": {
        "id": "t01ATYQpqq8u",
        "outputId": "62c2e7fb-83a7-4ef8-f631-e899b26c94dd",
        "colab": {
          "base_uri": "https://localhost:8080/"
        }
      },
      "source": [
        "#please enter your code below this line.\n",
        "import numpy as np\n",
        "a = np.arange(0,9).reshape(3,3)\n",
        "print(\"Matrix A is \\n\",a,\"\\n\")\n",
        "print(\"Sum of elements in A is \",a.sum())"
      ],
      "execution_count": 2,
      "outputs": [
        {
          "output_type": "stream",
          "text": [
            "Matrix A is \n",
            " [[0 1 2]\n",
            " [3 4 5]\n",
            " [6 7 8]] \n",
            "\n",
            "Sum of elements in A is  36\n"
          ],
          "name": "stdout"
        }
      ]
    },
    {
      "cell_type": "markdown",
      "metadata": {
        "id": "k3Y7nQF7r3IW"
      },
      "source": [
        "2. Create a 3x3 array values ranging from 0-8.Find the row sum and column sum of this array."
      ]
    },
    {
      "cell_type": "code",
      "metadata": {
        "id": "BzvIlWfvsICv",
        "outputId": "fc28eb0d-96c2-400a-e234-4cdfa861e9db",
        "colab": {
          "base_uri": "https://localhost:8080/"
        }
      },
      "source": [
        "#please enter your code below this line.\n",
        "import numpy as np\n",
        "a = np.arange(0,9).reshape(3,3)\n",
        "print(\"Matrix A is \\n\",a,\"\\n\")\n",
        "coloumnsum= np.sum(a, axis = 0)\n",
        "print(\"Sum of all the columns is \\n\", coloumnsum,\"\\n\")\n",
        "rowsum= np.sum(a, axis = 1)\n",
        "print(\"Sum of all the rows is \\n\", rowsum)\n"
      ],
      "execution_count": 3,
      "outputs": [
        {
          "output_type": "stream",
          "text": [
            "Matrix A is \n",
            " [[0 1 2]\n",
            " [3 4 5]\n",
            " [6 7 8]] \n",
            "\n",
            "Sum of all the columns is \n",
            " [ 9 12 15] \n",
            "\n",
            "Sum of all the rows is \n",
            " [ 3 12 21]\n"
          ],
          "name": "stdout"
        }
      ]
    },
    {
      "cell_type": "markdown",
      "metadata": {
        "id": "KOPMsbnrsgue"
      },
      "source": [
        "3. Create a 4x4 array values ranging from 0-15. Now,\n",
        "\n",
        "    a) Find the mininmum value in the array.\n",
        "    \n",
        "    b) Find the maximum value in the array.\n",
        "\n",
        "    c) Find the mean of the values in the array."
      ]
    },
    {
      "cell_type": "code",
      "metadata": {
        "id": "1UzITxp3WDaW",
        "outputId": "de21c6ea-654e-4155-b82f-04e5907bcc69",
        "colab": {
          "base_uri": "https://localhost:8080/"
        }
      },
      "source": [
        "#please enter your code belowthis line.\n",
        "import numpy as np\n",
        "a = np.arange(0,16).reshape(4,4)\n",
        "print(\"Matrix A is \\n\",a,\"\\n\")\n",
        "print(\"Element with minimum value in A is \\n\",np.min(a),\"\\n\")\n",
        "print(\"Element with maximum value in A is \\n\", np.max(a),\"\\n\")\n",
        "print(\"Mean of values of A is \\n\", np.mean(a))\n"
      ],
      "execution_count": 4,
      "outputs": [
        {
          "output_type": "stream",
          "text": [
            "Matrix A is \n",
            " [[ 0  1  2  3]\n",
            " [ 4  5  6  7]\n",
            " [ 8  9 10 11]\n",
            " [12 13 14 15]] \n",
            "\n",
            "Element with minimum value in A is \n",
            " 0 \n",
            "\n",
            "Element with maximum value in A is \n",
            " 15 \n",
            "\n",
            "Mean of values of A is \n",
            " 7.5\n"
          ],
          "name": "stdout"
        }
      ]
    },
    {
      "cell_type": "markdown",
      "metadata": {
        "id": "Pah9qGButoz2"
      },
      "source": [
        "4. Create an 10x10 array values ranging from 0-99.And ,\n",
        "\n",
        "    a) Print the 7th row.\n",
        "    \n",
        "    b) Print the rows from 4-8.\n",
        "\n",
        "    c) Print the value at the index 5,5.\n",
        "\n",
        "    d) Print the 5th colomn.\n",
        "\n",
        "    e) Print the columns from 2-5."
      ]
    },
    {
      "cell_type": "code",
      "metadata": {
        "id": "JFXPq0GkvhKi",
        "outputId": "09972944-839d-4544-cdfc-a32dcc795e20",
        "colab": {
          "base_uri": "https://localhost:8080/"
        }
      },
      "source": [
        "#please enter your code below this line.\n",
        "import numpy as np\n",
        "a = np.arange(0,100).reshape(10,10)\n",
        "print(\"Matrix A is \\n\",a,\"\\n\")\n",
        "print(\"The 7 th row of A is \\n\",a[6],\"\\n\")\n",
        "print(\"Rows from 4 to 8 of A is \\n\",a[3:8],\"\\n\")\n",
        "print(\"The element at 5,5 is  \\n\",a[5][5],\"\\n\")\n",
        "print(\"The 5 th column of A is \\n\",a[:,4],\"\\n\")\n",
        "print(\"The columns from 2 to 5 of A  is \\n\",a[ : , 1:5])\n"
      ],
      "execution_count": 6,
      "outputs": [
        {
          "output_type": "stream",
          "text": [
            "Matrix A is \n",
            " [[ 0  1  2  3  4  5  6  7  8  9]\n",
            " [10 11 12 13 14 15 16 17 18 19]\n",
            " [20 21 22 23 24 25 26 27 28 29]\n",
            " [30 31 32 33 34 35 36 37 38 39]\n",
            " [40 41 42 43 44 45 46 47 48 49]\n",
            " [50 51 52 53 54 55 56 57 58 59]\n",
            " [60 61 62 63 64 65 66 67 68 69]\n",
            " [70 71 72 73 74 75 76 77 78 79]\n",
            " [80 81 82 83 84 85 86 87 88 89]\n",
            " [90 91 92 93 94 95 96 97 98 99]] \n",
            "\n",
            "The 7 th row of A is \n",
            " [60 61 62 63 64 65 66 67 68 69] \n",
            "\n",
            "Rows from 4 to 8 of A is \n",
            " [[30 31 32 33 34 35 36 37 38 39]\n",
            " [40 41 42 43 44 45 46 47 48 49]\n",
            " [50 51 52 53 54 55 56 57 58 59]\n",
            " [60 61 62 63 64 65 66 67 68 69]\n",
            " [70 71 72 73 74 75 76 77 78 79]] \n",
            "\n",
            "The element at 5,5 is  \n",
            " 55 \n",
            "\n",
            "The 5 th column of A is \n",
            " [ 4 14 24 34 44 54 64 74 84 94] \n",
            "\n",
            "The columns from 2 to 5 of A  is \n",
            " [[ 1  2  3  4]\n",
            " [11 12 13 14]\n",
            " [21 22 23 24]\n",
            " [31 32 33 34]\n",
            " [41 42 43 44]\n",
            " [51 52 53 54]\n",
            " [61 62 63 64]\n",
            " [71 72 73 74]\n",
            " [81 82 83 84]\n",
            " [91 92 93 94]]\n"
          ],
          "name": "stdout"
        }
      ]
    }
  ]
}