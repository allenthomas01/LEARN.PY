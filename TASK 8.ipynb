{
  "nbformat": 4,
  "nbformat_minor": 0,
  "metadata": {
    "colab": {
      "name": "TASK 8.ipynb",
      "provenance": [],
      "include_colab_link": true
    },
    "kernelspec": {
      "name": "python3",
      "display_name": "Python 3"
    },
    "language_info": {
      "name": "python"
    }
  },
  "cells": [
    {
      "cell_type": "markdown",
      "metadata": {
        "id": "view-in-github",
        "colab_type": "text"
      },
      "source": [
        "<a href=\"https://colab.research.google.com/github/coding-sorcerer-1/LEARN.PY/blob/main/TASK%208.ipynb\" target=\"_parent\"><img src=\"https://colab.research.google.com/assets/colab-badge.svg\" alt=\"Open In Colab\"/></a>"
      ]
    },
    {
      "cell_type": "markdown",
      "metadata": {
        "id": "slsGswYbJSo7"
      },
      "source": [
        "1. Generate a 3 x 3 matrix using random module."
      ]
    },
    {
      "cell_type": "code",
      "metadata": {
        "id": "GGRQSYyNJW9t",
        "outputId": "3c9f210d-7c1e-4625-9d55-d6694565673b",
        "colab": {
          "base_uri": "https://localhost:8080/"
        }
      },
      "source": [
        "#please provide your answer below this line.\n",
        "import numpy as np\n",
        "import random\n",
        "\n",
        "sample=[random.randrange(1,100)for i in range (9)]\n",
        "arr1=np.array(sample)\n",
        "arr2=arr1.reshape(3,3)\n",
        "print(arr2)"
      ],
      "execution_count": 1,
      "outputs": [
        {
          "output_type": "stream",
          "text": [
            "[[97 52 92]\n",
            " [ 4 61 40]\n",
            " [89 60 96]]\n"
          ],
          "name": "stdout"
        }
      ]
    },
    {
      "cell_type": "markdown",
      "metadata": {
        "id": "4OB9KFX6JfYA"
      },
      "source": [
        "2. Generate two 4 x 4 matrix using numpy and \n",
        "\n",
        " a) Reshape it to 2 x 8matrix and vertically stack it.\n",
        "\n",
        " b) Reshape it to 2 x 8 matrix and horizontally stack it."
      ]
    },
    {
      "cell_type": "code",
      "metadata": {
        "id": "VoIqYeNWJ4H_",
        "outputId": "988c570d-3364-4061-edb3-d6c98d243989",
        "colab": {
          "base_uri": "https://localhost:8080/"
        }
      },
      "source": [
        "import numpy as np\n",
        "import random\n",
        "\n",
        "sample=[random.randrange(1,100)for i in range (16)]\n",
        "arr1=np.array(sample)\n",
        "newarr=arr1.reshape(4,4)\n",
        "print(\"4x4 matrix  \")\n",
        "print(newarr)\n",
        "print()\n",
        "newarr1=newarr.reshape(2,8)\n",
        "print(\"2x8 matrix  \")\n",
        "print(newarr1)\n",
        "print()\n",
        "hoz=np.hstack(newarr1)\n",
        "ver=np.vstack(newarr1)\n",
        "\n",
        "print(\"horizontal stack \")\n",
        "print(hoz)\n",
        "print()\n",
        "print(\"vertical stack \")\n",
        "print(ver)\n",
        "print()"
      ],
      "execution_count": 8,
      "outputs": [
        {
          "output_type": "stream",
          "text": [
            "4x4 matrix  \n",
            "[[65 77 72 78]\n",
            " [62 98  9 88]\n",
            " [29 48 42 38]\n",
            " [54 87 63 39]]\n",
            "\n",
            "2x8 matrix  \n",
            "[[65 77 72 78 62 98  9 88]\n",
            " [29 48 42 38 54 87 63 39]]\n",
            "\n",
            "horizontal stack \n",
            "[65 77 72 78 62 98  9 88 29 48 42 38 54 87 63 39]\n",
            "\n",
            "vertical stack \n",
            "[[65 77 72 78 62 98  9 88]\n",
            " [29 48 42 38 54 87 63 39]]\n",
            "\n"
          ],
          "name": "stdout"
        }
      ]
    }
  ]
}