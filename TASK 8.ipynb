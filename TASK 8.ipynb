{
  "nbformat": 4,
  "nbformat_minor": 0,
  "metadata": {
    "colab": {
      "name": "TASK 8.ipynb",
      "provenance": [],
      "include_colab_link": true
    },
    "kernelspec": {
      "name": "python3",
      "display_name": "Python 3"
    },
    "language_info": {
      "name": "python"
    }
  },
  "cells": [
    {
      "cell_type": "markdown",
      "metadata": {
        "id": "view-in-github",
        "colab_type": "text"
      },
      "source": [
        "<a href=\"https://colab.research.google.com/github/coding-sorcerer-1/LEARN.PY/blob/main/TASK%208.ipynb\" target=\"_parent\"><img src=\"https://colab.research.google.com/assets/colab-badge.svg\" alt=\"Open In Colab\"/></a>"
      ]
    },
    {
      "cell_type": "markdown",
      "metadata": {
        "id": "slsGswYbJSo7"
      },
      "source": [
        "1. Generate a 3 x 3 matrix using random module."
      ]
    },
    {
      "cell_type": "code",
      "metadata": {
        "id": "GGRQSYyNJW9t",
        "colab": {
          "base_uri": "https://localhost:8080/"
        },
        "outputId": "e550f5e5-6f88-4523-9c18-b6123c8531bb"
      },
      "source": [
        "#please provide your answer below this line.\n",
        "import numpy as np\n",
        "import random\n",
        "\n",
        "sample=[random.randrange(1,100)for i in range (9)]\n",
        "arr1=np.array(sample)\n",
        "arr2=arr1.reshape(3,3)\n",
        "print(arr2)"
      ],
      "execution_count": null,
      "outputs": [
        {
          "output_type": "stream",
          "text": [
            "[[22  3 74]\n",
            " [76 35 70]\n",
            " [64 98 80]]\n"
          ],
          "name": "stdout"
        }
      ]
    },
    {
      "cell_type": "markdown",
      "metadata": {
        "id": "4OB9KFX6JfYA"
      },
      "source": [
        "2. Generate two 4 x 4 matrix using numpy and \n",
        "\n",
        " a) Reshape it to 2 x 8matrix and vertically stack it.\n",
        "\n",
        " b) Reshape it to 2 x 8 matrix and horizontally stack it."
      ]
    },
    {
      "cell_type": "code",
      "metadata": {
        "id": "VoIqYeNWJ4H_",
        "colab": {
          "base_uri": "https://localhost:8080/"
        },
        "outputId": "baf7db33-64b7-4bbc-9e85-af948d967148"
      },
      "source": [
        "#please provide your answer below this line.\n",
        "import numpy as np\n",
        "import random\n",
        "\n",
        "sample1=[random.randrange(1,100)for i in range (16)]\n",
        "sample2=[random.randrange(1,100)for i in range (16)]\n",
        "arr11=np.array(sample1)\n",
        "arr22=np.array(sample2)\n",
        "newarr11=arr11.reshape(4,4)\n",
        "newarr22=arr22.reshape(4,4)\n",
        "print(\" 4x4 matrix A is \")\n",
        "print(newarr11 ,\"\\n\")\n",
        "print(\" 4x4 matrix B is  \")\n",
        "print(newarr22,\"\\n\")\n",
        "newarr111=newarr11.reshape(2,8)\n",
        "newarr222=newarr22.reshape(2,8)\n",
        "print(\"Rerranged 2x8 matrix of A is \")\n",
        "print(newarr111,\"\\n\")\n",
        "print(\"Rerranged 2x8 matrix of B is \")\n",
        "print(newarr222,\"\\n\")\n",
        "hoz1=np.hstack((newarr111,newarr222))\n",
        "ver1=np.vstack((newarr111,newarr222))\n",
        "\n",
        "print(\"Horizontal stack of rearranged matrices A and B is \")\n",
        "print(hoz1,\"\\n\")\n",
        "\n",
        "print(\"Vertical stack of  rearranged matrices A and B is \")\n",
        "print(ver1)\n"
      ],
      "execution_count": 2,
      "outputs": [
        {
          "output_type": "stream",
          "text": [
            " 4x4 matrix A is \n",
            "[[17 97 54 89]\n",
            " [17 76 71 72]\n",
            " [93 91 84 85]\n",
            " [96 97 49 64]] \n",
            "\n",
            " 4x4 matrix B is  \n",
            "[[43 66 21 35]\n",
            " [94 63  1 22]\n",
            " [ 4 40 50 89]\n",
            " [12 11 33 38]] \n",
            "\n",
            "Rerranged 2x8 matrix of A is \n",
            "[[17 97 54 89 17 76 71 72]\n",
            " [93 91 84 85 96 97 49 64]] \n",
            "\n",
            "Rerranged 2x8 matrix of B is \n",
            "[[43 66 21 35 94 63  1 22]\n",
            " [ 4 40 50 89 12 11 33 38]] \n",
            "\n",
            "Horizontal stack of rearranged matrices A and B is \n",
            "[[17 97 54 89 17 76 71 72 43 66 21 35 94 63  1 22]\n",
            " [93 91 84 85 96 97 49 64  4 40 50 89 12 11 33 38]] \n",
            "\n",
            "Vertical stack of  rearranged matrices A and B is \n",
            "[[17 97 54 89 17 76 71 72]\n",
            " [93 91 84 85 96 97 49 64]\n",
            " [43 66 21 35 94 63  1 22]\n",
            " [ 4 40 50 89 12 11 33 38]]\n"
          ],
          "name": "stdout"
        }
      ]
    }
  ]
}