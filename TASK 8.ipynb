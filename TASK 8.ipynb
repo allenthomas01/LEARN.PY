{
  "nbformat": 4,
  "nbformat_minor": 0,
  "metadata": {
    "colab": {
      "name": "TASK 8.ipynb",
      "provenance": [],
      "include_colab_link": true
    },
    "kernelspec": {
      "name": "python3",
      "display_name": "Python 3"
    },
    "language_info": {
      "name": "python"
    }
  },
  "cells": [
    {
      "cell_type": "markdown",
      "metadata": {
        "id": "view-in-github",
        "colab_type": "text"
      },
      "source": [
        "<a href=\"https://colab.research.google.com/github/coding-sorcerer-1/LEARN.PY/blob/main/TASK%208.ipynb\" target=\"_parent\"><img src=\"https://colab.research.google.com/assets/colab-badge.svg\" alt=\"Open In Colab\"/></a>"
      ]
    },
    {
      "cell_type": "markdown",
      "metadata": {
        "id": "slsGswYbJSo7"
      },
      "source": [
        "1. Generate a 3 x 3 matrix using random module."
      ]
    },
    {
      "cell_type": "code",
      "metadata": {
        "id": "GGRQSYyNJW9t",
        "outputId": "e550f5e5-6f88-4523-9c18-b6123c8531bb",
        "colab": {
          "base_uri": "https://localhost:8080/"
        }
      },
      "source": [
        "#please provide your answer below this line.\n",
        "import numpy as np\n",
        "import random\n",
        "\n",
        "sample=[random.randrange(1,100)for i in range (9)]\n",
        "arr1=np.array(sample)\n",
        "arr2=arr1.reshape(3,3)\n",
        "print(arr2)"
      ],
      "execution_count": 1,
      "outputs": [
        {
          "output_type": "stream",
          "text": [
            "[[22  3 74]\n",
            " [76 35 70]\n",
            " [64 98 80]]\n"
          ],
          "name": "stdout"
        }
      ]
    },
    {
      "cell_type": "markdown",
      "metadata": {
        "id": "4OB9KFX6JfYA"
      },
      "source": [
        "2. Generate two 4 x 4 matrix using numpy and \n",
        "\n",
        " a) Reshape it to 2 x 8matrix and vertically stack it.\n",
        "\n",
        " b) Reshape it to 2 x 8 matrix and horizontally stack it."
      ]
    },
    {
      "cell_type": "code",
      "metadata": {
        "id": "VoIqYeNWJ4H_",
        "outputId": "dbf27622-4035-45bd-f8ea-c426f92cc4a6",
        "colab": {
          "base_uri": "https://localhost:8080/"
        }
      },
      "source": [
        "#please provide your answer below this line.\n",
        "import numpy as np\n",
        "import random\n",
        "\n",
        "sample1=[random.randrange(1,100)for i in range (16)]\n",
        "sample2=[random.randrange(1,100)for i in range (16)]\n",
        "arr11=np.array(sample1)\n",
        "arr22=np.array(sample2)\n",
        "newarr11=arr11.reshape(4,4)\n",
        "newarr22=arr22.reshape(4,4)\n",
        "print(\" 4x4 matrix A is \")\n",
        "print(newarr11 ,\"\\n\")\n",
        "print(\" 4x4 matrix B is  \")\n",
        "print(newarr22,\"\\n\")\n",
        "newarr111=newarr11.reshape(2,8)\n",
        "newarr222=newarr22.reshape(2,8)\n",
        "print(\"Rerranged 2x8 matrix of A is \")\n",
        "print(newarr111,\"\\n\")\n",
        "print(\"Rerranged 2x8 matrix of B is \")\n",
        "print(newarr222,\"\\n\")\n",
        "hoz1=np.hstack(newarr111)\n",
        "ver1=np.vstack(newarr111)\n",
        "hoz2=np.hstack(newarr222)\n",
        "ver2=np.vstack(newarr222)\n",
        "\n",
        "print(\"Horizontal stack of matrix A is \")\n",
        "print(hoz1,\"\\n\")\n",
        "print(\"Horizontal stack of matrix B is \")\n",
        "print(hoz2,\"\\n\")\n",
        "print(\"Vertical stack of matrix A is \")\n",
        "print(ver1,\"\\n\")\n",
        "print(\"Vertical stack of matrix B is \")\n",
        "print(ver2,\"\\n\")"
      ],
      "execution_count": 2,
      "outputs": [
        {
          "output_type": "stream",
          "text": [
            " 4x4 matrix A is \n",
            "[[52 17 32 91]\n",
            " [85  1 50 56]\n",
            " [69 83 48 52]\n",
            " [89 23 35 39]] \n",
            "\n",
            " 4x4 matrix B is  \n",
            "[[46 80  7 18]\n",
            " [27 59 80 95]\n",
            " [10 49 96 28]\n",
            " [48 42 40 25]] \n",
            "\n",
            "Rerranged 2x8 matrix of A is \n",
            "[[52 17 32 91 85  1 50 56]\n",
            " [69 83 48 52 89 23 35 39]] \n",
            "\n",
            "Rerranged 2x8 matrix of B is \n",
            "[[46 80  7 18 27 59 80 95]\n",
            " [10 49 96 28 48 42 40 25]] \n",
            "\n",
            "Horizontal stack of matrix A is \n",
            "[52 17 32 91 85  1 50 56 69 83 48 52 89 23 35 39] \n",
            "\n",
            "Horizontal stack of matrix B is \n",
            "[46 80  7 18 27 59 80 95 10 49 96 28 48 42 40 25] \n",
            "\n",
            "Vertical stack of matrix A is \n",
            "[[52 17 32 91 85  1 50 56]\n",
            " [69 83 48 52 89 23 35 39]] \n",
            "\n",
            "Vertical stack of matrix B is \n",
            "[[46 80  7 18 27 59 80 95]\n",
            " [10 49 96 28 48 42 40 25]] \n",
            "\n"
          ],
          "name": "stdout"
        }
      ]
    }
  ]
}