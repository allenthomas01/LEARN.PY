{
  "nbformat": 4,
  "nbformat_minor": 0,
  "metadata": {
    "colab": {
      "name": "TASK 21.ipynb",
      "provenance": [],
      "include_colab_link": true
    },
    "kernelspec": {
      "name": "python3",
      "display_name": "Python 3"
    },
    "language_info": {
      "name": "python"
    }
  },
  "cells": [
    {
      "cell_type": "markdown",
      "metadata": {
        "id": "view-in-github",
        "colab_type": "text"
      },
      "source": [
        "<a href=\"https://colab.research.google.com/github/coding-sorcerer-1/LEARN.PY/blob/main/TASK_21.ipynb\" target=\"_parent\"><img src=\"https://colab.research.google.com/assets/colab-badge.svg\" alt=\"Open In Colab\"/></a>"
      ]
    },
    {
      "cell_type": "markdown",
      "metadata": {
        "id": "wK9sv7fHTnyo"
      },
      "source": [
        "1.  Using the dataset given below,\n",
        "  - Group the given dataset by A and find the sum of the groups.\n",
        "  - Find the 3 least elements from the column D\n",
        "  - Find the 3 largest elements from the Column D which belongs to the group\n",
        "  'bar'."
      ]
    },
    {
      "cell_type": "code",
      "metadata": {
        "id": "C_Kq4i_rVNyB",
        "outputId": "1c542958-69e1-45c5-f476-e244095c828a",
        "colab": {
          "base_uri": "https://localhost:8080/"
        }
      },
      "source": [
        "import pandas as pd\n",
        "import numpy as np\n",
        "df = pd.DataFrame({'A' : ['foo', 'bar', 'foo', 'bar',\n",
        "                          'foo', 'bar', 'foo', 'foo'],\n",
        "                   'B' : ['one', 'one', 'two', 'three',\n",
        "                          'two', 'two', 'one', 'three'],\n",
        "                   'C' : np.random.randn(8),\n",
        "                   'D' : np.random.randn(8)})\n",
        "df\n",
        "#please type your code below this line.\n",
        "group=df.groupby('A')\n",
        "print(\"Sum of the groups \")\n",
        "print(group.sum(),\"\\n\")\n",
        "print(\"3 least elements from the column D\")\n",
        "print(df['D'].nsmallest(3),\"\\n\")\n",
        "print(\"3 largest elements from the column D which belongs to the group 'bar' \",group['D'].get_group('bar').nlargest(3))"
      ],
      "execution_count": 2,
      "outputs": [
        {
          "output_type": "stream",
          "name": "stdout",
          "text": [
            "Sum of the groups \n",
            "            C         D\n",
            "A                      \n",
            "bar  0.722419  1.235550\n",
            "foo -0.682076 -2.523598 \n",
            "\n",
            "3 least elements from the column D\n",
            "7   -1.617600\n",
            "6   -1.210494\n",
            "4   -0.560729\n",
            "Name: D, dtype: float64 \n",
            "\n",
            "3 largest elements from the column D which belongs to the group 'bar'  5    0.923467\n",
            "3    0.754036\n",
            "1   -0.441954\n",
            "Name: D, dtype: float64\n"
          ]
        }
      ]
    },
    {
      "cell_type": "markdown",
      "metadata": {
        "id": "68XLHGsrdHXb"
      },
      "source": [
        "2. Using the dataset given below,\n",
        "  - convert the dataset into a csv file.\n",
        "  - read the csv file just saved\n",
        "  - covert the dataset into a excel file.\n",
        "  - read the excel file just saved."
      ]
    },
    {
      "cell_type": "code",
      "metadata": {
        "id": "J4BOx3UZdVLV",
        "outputId": "65e9eca9-e839-4d49-f7a2-4fccdb98391d",
        "colab": {
          "base_uri": "https://localhost:8080/"
        }
      },
      "source": [
        "import pandas as pd\n",
        "import numpy as np\n",
        "df = pd.DataFrame({'A' : ['foo', 'bar', 'foo', 'bar',\n",
        "                          'foo', 'bar', 'foo', 'foo'],\n",
        "                   'B' : ['one', 'one', 'two', 'three',\n",
        "                          'two', 'two', 'one', 'three'],\n",
        "                   'C' : np.random.randn(8),\n",
        "                   'D' : np.random.randn(8)})\n",
        "#please type your code below this line.\n",
        "df.to_csv('csvFile.csv')\n",
        "print(\"Csv file\")\n",
        "print(pd.read_csv('csvFile.csv'),\"\\n\")\n",
        "df.to_excel('excelFile.xlsx')\n",
        "print(\"Excel file \")\n",
        "print(pd.read_excel('excelFile.xlsx'))"
      ],
      "execution_count": 4,
      "outputs": [
        {
          "output_type": "stream",
          "name": "stdout",
          "text": [
            "Csv file\n",
            "   Unnamed: 0    A      B         C         D\n",
            "0           0  foo    one  1.377624 -0.086648\n",
            "1           1  bar    one  0.121243  0.636762\n",
            "2           2  foo    two  0.053620 -0.056062\n",
            "3           3  bar  three  0.835948 -0.234842\n",
            "4           4  foo    two -0.266016 -1.165196\n",
            "5           5  bar    two  0.189041 -0.656230\n",
            "6           6  foo    one  0.188970  0.865762\n",
            "7           7  foo  three -0.834951 -0.156155 \n",
            "\n",
            "Excel file \n",
            "   Unnamed: 0    A      B         C         D\n",
            "0           0  foo    one  1.377624 -0.086648\n",
            "1           1  bar    one  0.121243  0.636762\n",
            "2           2  foo    two  0.053620 -0.056062\n",
            "3           3  bar  three  0.835948 -0.234842\n",
            "4           4  foo    two -0.266016 -1.165196\n",
            "5           5  bar    two  0.189041 -0.656230\n",
            "6           6  foo    one  0.188970  0.865762\n",
            "7           7  foo  three -0.834951 -0.156155\n"
          ]
        }
      ]
    }
  ]
}