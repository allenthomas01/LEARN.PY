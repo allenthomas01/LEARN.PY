{
  "nbformat": 4,
  "nbformat_minor": 0,
  "metadata": {
    "colab": {
      "name": "TASK 14.ipynb",
      "provenance": [],
      "include_colab_link": true
    },
    "kernelspec": {
      "name": "python3",
      "display_name": "Python 3"
    },
    "language_info": {
      "name": "python"
    }
  },
  "cells": [
    {
      "cell_type": "markdown",
      "metadata": {
        "id": "view-in-github",
        "colab_type": "text"
      },
      "source": [
        "<a href=\"https://colab.research.google.com/github/coding-sorcerer-1/LEARN.PY/blob/main/TASK%2014.ipynb\" target=\"_parent\"><img src=\"https://colab.research.google.com/assets/colab-badge.svg\" alt=\"Open In Colab\"/></a>"
      ]
    },
    {
      "cell_type": "markdown",
      "metadata": {
        "id": "pDx7KyZoXYNb"
      },
      "source": [
        "1. Create two arrays, one containing elements [1,2], [3,4] and another containing elements [8,18] Now find the solution for this linear equation."
      ]
    },
    {
      "cell_type": "code",
      "metadata": {
        "id": "1HQu2yB2YMbj",
        "outputId": "792572cf-29fe-4728-b035-ab7777e29967",
        "colab": {
          "base_uri": "https://localhost:8080/"
        }
      },
      "source": [
        "#please type your answer below this line.\n",
        "import numpy as np\n",
        "\n",
        "a = np.array(([1,2], [3,4]))\n",
        "b = np.array([8,18])\n",
        "print(\"Array A is \\n\",a,\"\\n\")\n",
        "print(\"Array B is \\n\",b,\"\\n\")\n",
        "print(\"Solution of linear equations A and B is \\n\", np.linalg.solve(a , b))\n",
        "\n"
      ],
      "execution_count": 1,
      "outputs": [
        {
          "output_type": "stream",
          "text": [
            "Array A is \n",
            " [[1 2]\n",
            " [3 4]] \n",
            "\n",
            "Array B is \n",
            " [ 8 18] \n",
            "\n",
            "Solution of linear equations A and B is \n",
            " [2. 3.]\n"
          ],
          "name": "stdout"
        }
      ]
    },
    {
      "cell_type": "markdown",
      "metadata": {
        "id": "RyDr51p8ZxQp"
      },
      "source": [
        "2. Create an array containing elements [2, 3, 4]. Now find the sin,cos,tan values of this array elements."
      ]
    },
    {
      "cell_type": "code",
      "metadata": {
        "id": "iXZByHNOaXbk",
        "outputId": "4d7d273c-d892-4ffc-f250-b18d6dcc049e",
        "colab": {
          "base_uri": "https://localhost:8080/"
        }
      },
      "source": [
        "#please type your answer below this line.\n",
        "\n",
        "import numpy as np\n",
        "a= np.array([2,3,4])\n",
        "print(\"Array A is \\n\",a,\"\\n\")\n",
        "#the sin,cos,tan functions only work on radians \n",
        "#so the inputs should be converted to radians\n",
        "print(\"Converted array in radians is \\n\",a*(np.pi/180),\"\\n\")\n",
        "#np.pi is the constant pi in numpy\n",
        "print(\"Sin value of A is \\n\",np.sin(a),\"\\n\")\n",
        "print(\"Cos value of A is \\n\",np.cos(a),\"\\n\")\n",
        "print(\"Tan value of A is \\n\",np.tan(a))"
      ],
      "execution_count": 2,
      "outputs": [
        {
          "output_type": "stream",
          "text": [
            "Array A is \n",
            " [2 3 4] \n",
            "\n",
            "Converted array in radians is \n",
            " [0.03490659 0.05235988 0.06981317] \n",
            "\n",
            "Sin value of A is \n",
            " [ 0.90929743  0.14112001 -0.7568025 ] \n",
            "\n",
            "Cos value of A is \n",
            " [-0.41614684 -0.9899925  -0.65364362] \n",
            "\n",
            "Tan value of A is \n",
            " [-2.18503986 -0.14254654  1.15782128]\n"
          ],
          "name": "stdout"
        }
      ]
    },
    {
      "cell_type": "markdown",
      "metadata": {
        "id": "Itk2DMc6b60J"
      },
      "source": [
        "3. Given b=[5,6], then find,\n",
        "\n",
        "  a) 2sinb\n",
        "  b) 2cos3b\n",
        "  c) 4tan2b"
      ]
    },
    {
      "cell_type": "code",
      "metadata": {
        "id": "lgxpIaKebw5y",
        "outputId": "23aa4763-f73d-4337-aba3-fb0031c75a0b",
        "colab": {
          "base_uri": "https://localhost:8080/"
        }
      },
      "source": [
        "#please type your answer below this line.\n",
        "import numpy as np\n",
        "\n",
        "b = np.array([5,6])\n",
        "b = b*np.pi/180\n",
        "print(\"Changed array into radians \\n\",b,\"\\n\")\n",
        "print(\"Value of 2sinb is \\n\",2*np.sin(b),\"\\n\")\n",
        "print(\"Value of 2cos3b is \\n\",2*np.cos(3*b),\"\\n\")\n",
        "print(\"Value of 4tan2b is \\n\",4*np.tan(2*b))"
      ],
      "execution_count": 5,
      "outputs": [
        {
          "output_type": "stream",
          "text": [
            "Changed array into radians \n",
            " [0.08726646 0.10471976] \n",
            "\n",
            "Value of 2sinb is \n",
            " [0.17431149 0.20905693] \n",
            "\n",
            "Value of 2cos3b is \n",
            " [1.93185165 1.90211303] \n",
            "\n",
            "Value of 4tan2b is \n",
            " [0.70530792 0.85022625]\n"
          ],
          "name": "stdout"
        }
      ]
    }
  ]
}