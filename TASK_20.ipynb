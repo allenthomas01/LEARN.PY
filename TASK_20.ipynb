{
  "nbformat": 4,
  "nbformat_minor": 0,
  "metadata": {
    "colab": {
      "name": "TASK 20.ipynb",
      "provenance": [],
      "include_colab_link": true
    },
    "kernelspec": {
      "name": "python3",
      "display_name": "Python 3"
    },
    "language_info": {
      "name": "python"
    }
  },
  "cells": [
    {
      "cell_type": "markdown",
      "metadata": {
        "id": "view-in-github",
        "colab_type": "text"
      },
      "source": [
        "<a href=\"https://colab.research.google.com/github/coding-sorcerer-1/LEARN.PY/blob/main/TASK_20.ipynb\" target=\"_parent\"><img src=\"https://colab.research.google.com/assets/colab-badge.svg\" alt=\"Open In Colab\"/></a>"
      ]
    },
    {
      "cell_type": "markdown",
      "metadata": {
        "id": "8LIfdcjDWmC3"
      },
      "source": [
        "1. In the data given below,\n",
        "  - find the boolean mask where value is nan\n",
        "  - remove the row with missing data.\n"
      ]
    },
    {
      "cell_type": "markdown",
      "metadata": {
        "id": "VPCGISRTbYPz"
      },
      "source": [
        ""
      ]
    },
    {
      "cell_type": "code",
      "metadata": {
        "colab": {
          "base_uri": "https://localhost:8080/"
        },
        "id": "VsZQYRqXXHpG",
        "outputId": "35d7e37b-0100-4a16-8604-53f189ce882b"
      },
      "source": [
        "import pandas as pd\n",
        "import numpy as np\n",
        "dates = pd.date_range('20210101',periods=6)\n",
        "df = pd.DataFrame(np.random.randn(6,4), index=dates,columns=list('ABCD'))\n",
        "s1 = pd.Series([1,2,3,4,5,6], index=pd.date_range('20130102', periods=6))\n",
        "df[\"F\"]=s1\n",
        "df1=df.reindex(index=dates[0:4], columns=list(df.columns) + ['E'])\n",
        "df1.loc[dates[0]:dates[1],'E'] = 1\n",
        "df1\n",
        "#please provide your answer below this line\n",
        "print(df1,\"\\n\")\n",
        "print(\" Boolean mask where value is nan\")\n",
        "print(df1.isnull(),\"\\n\")\n",
        "print(\"Remove the row with missing data\")\n",
        "print(df1.dropna())"
      ],
      "execution_count": 1,
      "outputs": [
        {
          "output_type": "stream",
          "name": "stdout",
          "text": [
            "                   A         B         C         D   F    E\n",
            "2021-01-01 -0.853587 -0.220687  1.642123 -0.583665 NaN  1.0\n",
            "2021-01-02  0.717799  0.258844 -0.155539 -2.111745 NaN  1.0\n",
            "2021-01-03 -0.357631 -0.176993  1.338985 -0.245193 NaN  NaN\n",
            "2021-01-04  0.396547  0.857937  1.527247 -0.531942 NaN  NaN \n",
            "\n",
            " Boolean mask where value is nan\n",
            "                A      B      C      D     F      E\n",
            "2021-01-01  False  False  False  False  True  False\n",
            "2021-01-02  False  False  False  False  True  False\n",
            "2021-01-03  False  False  False  False  True   True\n",
            "2021-01-04  False  False  False  False  True   True \n",
            "\n",
            "Remove the row with missing data\n",
            "Empty DataFrame\n",
            "Columns: [A, B, C, D, F, E]\n",
            "Index: []\n"
          ]
        }
      ]
    },
    {
      "cell_type": "markdown",
      "metadata": {
        "id": "z1sv0aluZhcd"
      },
      "source": [
        "2. In the data given below,fill the missing data with 20."
      ]
    },
    {
      "cell_type": "code",
      "metadata": {
        "colab": {
          "base_uri": "https://localhost:8080/"
        },
        "id": "x3ZHFCeyZ0j2",
        "outputId": "32820d7a-1c2f-461c-b141-31d785d6f180"
      },
      "source": [
        "import pandas as pd\n",
        "import numpy as np\n",
        "dates = pd.date_range('20210101',periods=6)\n",
        "df = pd.DataFrame(np.random.randn(6,4), index=dates,columns=list('ABCD'))\n",
        "s1 = pd.Series([1,2,3,4,5,6], index=pd.date_range('20130102', periods=6))\n",
        "df[\"F\"]=s1\n",
        "df1=df.reindex(index=dates[0:4], columns=list(df.columns) + ['E'])\n",
        "df1.loc[dates[0]:dates[1],'E'] = 1\n",
        "df1\n",
        "#please provide your answer below this line\n",
        "print(df1,\"\\n\")\n",
        "print(\" Filling  with missing data with 20 \")\n",
        "print(df1.fillna(value=20))"
      ],
      "execution_count": 4,
      "outputs": [
        {
          "output_type": "stream",
          "name": "stdout",
          "text": [
            "                   A         B         C         D   F    E\n",
            "2021-01-01 -0.026931 -0.272744 -0.692268  1.033369 NaN  1.0\n",
            "2021-01-02  1.276502  0.558617  1.319664  0.231356 NaN  1.0\n",
            "2021-01-03  1.835350 -1.056862 -0.533217  1.061188 NaN  NaN\n",
            "2021-01-04 -0.222067  0.791035  0.715653 -0.039131 NaN  NaN \n",
            "\n",
            " Filling  with missing data with 20 \n",
            "                   A         B         C         D     F     E\n",
            "2021-01-01 -0.026931 -0.272744 -0.692268  1.033369  20.0   1.0\n",
            "2021-01-02  1.276502  0.558617  1.319664  0.231356  20.0   1.0\n",
            "2021-01-03  1.835350 -1.056862 -0.533217  1.061188  20.0  20.0\n",
            "2021-01-04 -0.222067  0.791035  0.715653 -0.039131  20.0  20.0\n"
          ]
        }
      ]
    },
    {
      "cell_type": "markdown",
      "metadata": {
        "id": "vMzwvpxcZ3G8"
      },
      "source": [
        "3. From the data given below,\n",
        "  - break the data in to pieces from 0 t0 2 ,3 t0 7\n",
        "  - concatenate the pieces.\n",
        "  - concatenate the pieces along axis 1\n",
        "  - label each as 'a' and 'b' respectively and perform concatenation."
      ]
    },
    {
      "cell_type": "code",
      "metadata": {
        "colab": {
          "base_uri": "https://localhost:8080/"
        },
        "id": "LxGwKPTVbbXV",
        "outputId": "0317dd69-3111-4406-99c2-cb1cf5ad22c5"
      },
      "source": [
        "import pandas as pd\n",
        "import numpy as np\n",
        "df = pd.DataFrame(np.random.randn(10, 4))\n",
        "df\n",
        "#please provide your answer below this line\n",
        "print(df)\n",
        "pieces=[df[:3],df[3:8]]\n",
        "print(\"Breaking  of data into pieces from 0 to 2,3 to 7\")\n",
        "print(pieces[0],\"\\n\",pieces[1],\"\\n\")\n",
        "print(\"Concatenate pieces\")\n",
        "print(pd.concat(pieces),\"\\n\")\n",
        "print(\"Concatenate  pieces along axis 1\")\n",
        "print(pd.concat(pieces,axis=1),\"\\n\")\n",
        "a=pieces[0]\n",
        "b=pieces[1]\n",
        "print(\"Concatenate  a and b\")\n",
        "print(pd.concat([a,b]))"
      ],
      "execution_count": 6,
      "outputs": [
        {
          "output_type": "stream",
          "name": "stdout",
          "text": [
            "          0         1         2         3\n",
            "0  0.539514 -2.132813  1.387361 -0.099945\n",
            "1  0.151315  1.759097  0.455249 -0.696526\n",
            "2 -0.082904 -1.799215 -0.712703  0.776018\n",
            "3 -0.507896  0.211595 -1.824508  0.223168\n",
            "4  0.197238  0.361938 -0.837183  0.343024\n",
            "5  1.266844  0.828816  0.997378 -0.114009\n",
            "6  0.078696 -2.245433  0.576466 -0.838446\n",
            "7 -0.498551 -0.068036  1.017447 -0.295710\n",
            "8  0.175979 -1.316226 -0.702863  0.119168\n",
            "9  1.031209 -0.377451 -0.421855 -1.204913\n",
            "Breaking  of data into pieces from 0 to 2,3 to 7\n",
            "          0         1         2         3\n",
            "0  0.539514 -2.132813  1.387361 -0.099945\n",
            "1  0.151315  1.759097  0.455249 -0.696526\n",
            "2 -0.082904 -1.799215 -0.712703  0.776018 \n",
            "           0         1         2         3\n",
            "3 -0.507896  0.211595 -1.824508  0.223168\n",
            "4  0.197238  0.361938 -0.837183  0.343024\n",
            "5  1.266844  0.828816  0.997378 -0.114009\n",
            "6  0.078696 -2.245433  0.576466 -0.838446\n",
            "7 -0.498551 -0.068036  1.017447 -0.295710 \n",
            "\n",
            "Concatenate pieces\n",
            "          0         1         2         3\n",
            "0  0.539514 -2.132813  1.387361 -0.099945\n",
            "1  0.151315  1.759097  0.455249 -0.696526\n",
            "2 -0.082904 -1.799215 -0.712703  0.776018\n",
            "3 -0.507896  0.211595 -1.824508  0.223168\n",
            "4  0.197238  0.361938 -0.837183  0.343024\n",
            "5  1.266844  0.828816  0.997378 -0.114009\n",
            "6  0.078696 -2.245433  0.576466 -0.838446\n",
            "7 -0.498551 -0.068036  1.017447 -0.295710 \n",
            "\n",
            "Concatenate  pieces along axis 1\n",
            "          0         1         2  ...         1         2         3\n",
            "0  0.539514 -2.132813  1.387361  ...       NaN       NaN       NaN\n",
            "1  0.151315  1.759097  0.455249  ...       NaN       NaN       NaN\n",
            "2 -0.082904 -1.799215 -0.712703  ...       NaN       NaN       NaN\n",
            "3       NaN       NaN       NaN  ...  0.211595 -1.824508  0.223168\n",
            "4       NaN       NaN       NaN  ...  0.361938 -0.837183  0.343024\n",
            "5       NaN       NaN       NaN  ...  0.828816  0.997378 -0.114009\n",
            "6       NaN       NaN       NaN  ... -2.245433  0.576466 -0.838446\n",
            "7       NaN       NaN       NaN  ... -0.068036  1.017447 -0.295710\n",
            "\n",
            "[8 rows x 8 columns] \n",
            "\n",
            "Concatenate  a and b\n",
            "          0         1         2         3\n",
            "0  0.539514 -2.132813  1.387361 -0.099945\n",
            "1  0.151315  1.759097  0.455249 -0.696526\n",
            "2 -0.082904 -1.799215 -0.712703  0.776018\n",
            "3 -0.507896  0.211595 -1.824508  0.223168\n",
            "4  0.197238  0.361938 -0.837183  0.343024\n",
            "5  1.266844  0.828816  0.997378 -0.114009\n",
            "6  0.078696 -2.245433  0.576466 -0.838446\n",
            "7 -0.498551 -0.068036  1.017447 -0.295710\n"
          ]
        }
      ]
    }
  ]
}