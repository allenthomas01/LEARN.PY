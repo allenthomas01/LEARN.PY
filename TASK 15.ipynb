{
  "nbformat": 4,
  "nbformat_minor": 0,
  "metadata": {
    "colab": {
      "name": "TASK 15.ipynb",
      "provenance": [],
      "include_colab_link": true
    },
    "kernelspec": {
      "name": "python3",
      "display_name": "Python 3"
    },
    "language_info": {
      "name": "python"
    }
  },
  "cells": [
    {
      "cell_type": "markdown",
      "metadata": {
        "id": "view-in-github",
        "colab_type": "text"
      },
      "source": [
        "<a href=\"https://colab.research.google.com/github/coding-sorcerer-1/LEARN.PY/blob/main/TASK%2015.ipynb\" target=\"_parent\"><img src=\"https://colab.research.google.com/assets/colab-badge.svg\" alt=\"Open In Colab\"/></a>"
      ]
    },
    {
      "cell_type": "markdown",
      "metadata": {
        "id": "mmfmNpvywy0n"
      },
      "source": [
        "1. For the given ndarray b below, evaluate whether elements in array, b are equal to 'red'.Assign the result to b_bool and print the resultant boolean array.\n",
        "b = np.array([\"blue\", \"blue\", \"red\", \"blue\"])"
      ]
    },
    {
      "cell_type": "code",
      "metadata": {
        "id": "KyVrfhasw7SW",
        "colab": {
          "base_uri": "https://localhost:8080/"
        },
        "outputId": "e1260f99-cc5d-417b-9582-720d945491d7"
      },
      "source": [
        "#please type your answer below this line.\n",
        "import numpy as np\n",
        "b=np.array([\"blue\", \"blue\", \"red\", \"blue\"])\n",
        "b_bool=(b[:]=='red')\n",
        "print(\"The resultant boolean array is \\n\",b_bool)"
      ],
      "execution_count": 1,
      "outputs": [
        {
          "output_type": "stream",
          "text": [
            "The resultant boolean array is \n",
            " [False False  True False]\n"
          ],
          "name": "stdout"
        }
      ]
    },
    {
      "cell_type": "markdown",
      "metadata": {
        "id": "1IEqtJSDzx3p"
      },
      "source": [
        "2. Create two arrays on containing elements from 0-5 and another containing elements from 6-10. Then append this array."
      ]
    },
    {
      "cell_type": "code",
      "metadata": {
        "id": "7PXETiqF0Jeo",
        "colab": {
          "base_uri": "https://localhost:8080/"
        },
        "outputId": "7c85a388-37ca-4df1-ecf9-5c3727f67725"
      },
      "source": [
        "#please type your answer below this line.\n",
        "import numpy as np\n",
        "a=np.array([0,1,2,3,4,5])\n",
        "b=np.array([6,7,8,9,10])\n",
        "print(\"Array A is \\n\",a,\"\\n\")\n",
        "print(\"Array B is \\n\",b,\"\\n\")\n",
        "c=np.append(a,b)\n",
        "#appending arrays\n",
        "print(\"The array after appending A and B is \\n\",c,\"\\n\")"
      ],
      "execution_count": 2,
      "outputs": [
        {
          "output_type": "stream",
          "text": [
            "Array A is \n",
            " [0 1 2 3 4 5] \n",
            "\n",
            "Array B is \n",
            " [ 6  7  8  9 10] \n",
            "\n",
            "The array after appending A and B is \n",
            " [ 0  1  2  3  4  5  6  7  8  9 10] \n",
            "\n"
          ],
          "name": "stdout"
        }
      ]
    },
    {
      "cell_type": "markdown",
      "metadata": {
        "id": "6JqR9EeB0P6K"
      },
      "source": [
        "3. Create a 2x4 array containing values from 0-7 and another 2x4 containing values from 8-15. Now append this with,\n",
        "\n",
        "  a) axis as 0\n",
        "\n",
        "  b) axis as 1"
      ]
    },
    {
      "cell_type": "code",
      "metadata": {
        "id": "AVhGyXzr1Pd8",
        "colab": {
          "base_uri": "https://localhost:8080/"
        },
        "outputId": "33e7aa6f-c918-4e76-baa3-2f7dd2a4e451"
      },
      "source": [
        "#please type your answer below this line.\n",
        "import numpy as np\n",
        "a = np.arange(0,8).reshape(2,4)\n",
        "b = np.arange(8,16).reshape(2,4)\n",
        "print(\"Matrix A is \\n\",a,\"\\n\")\n",
        "print(\"Matrix B is \\n\",b,\"\\n\")\n",
        "\n",
        "print(\"Appended matrix of A and B  with axis as 0 is \\n\",np.append(a,b,axis=0),\"\\n\")\n",
        "print(\"Appended matrix of A and B with axis as 1 is \\n\",np.append(a,b,axis=1),\"\\n\")"
      ],
      "execution_count": 3,
      "outputs": [
        {
          "output_type": "stream",
          "text": [
            "Matrix A is \n",
            " [[0 1 2 3]\n",
            " [4 5 6 7]] \n",
            "\n",
            "Matrix B is \n",
            " [[ 8  9 10 11]\n",
            " [12 13 14 15]] \n",
            "\n",
            "Appended matrix of A and B  with axis as 0 is \n",
            " [[ 0  1  2  3]\n",
            " [ 4  5  6  7]\n",
            " [ 8  9 10 11]\n",
            " [12 13 14 15]] \n",
            "\n",
            "Appended matrix of A and B with axis as 1 is \n",
            " [[ 0  1  2  3  8  9 10 11]\n",
            " [ 4  5  6  7 12 13 14 15]] \n",
            "\n"
          ],
          "name": "stdout"
        }
      ]
    }
  ]
}