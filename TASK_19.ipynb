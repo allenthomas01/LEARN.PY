{
  "nbformat": 4,
  "nbformat_minor": 0,
  "metadata": {
    "colab": {
      "name": "TASK 19.ipynb",
      "provenance": [],
      "include_colab_link": true
    },
    "kernelspec": {
      "name": "python3",
      "display_name": "Python 3"
    },
    "language_info": {
      "name": "python"
    }
  },
  "cells": [
    {
      "cell_type": "markdown",
      "metadata": {
        "id": "view-in-github",
        "colab_type": "text"
      },
      "source": [
        "<a href=\"https://colab.research.google.com/github/coding-sorcerer-1/LEARN.PY/blob/main/TASK_19.ipynb\" target=\"_parent\"><img src=\"https://colab.research.google.com/assets/colab-badge.svg\" alt=\"Open In Colab\"/></a>"
      ]
    },
    {
      "cell_type": "markdown",
      "metadata": {
        "id": "6J-6GvX2JUcC"
      },
      "source": [
        "1. Create a DataFrame by passing a random numpy array,with a dateted index and labelled columns and display,\n",
        "  - where values of the column A is greater than 0.\n",
        "  - where values of the columns A is greater than 0 and B greater than -1.\n",
        "  - where values of the columns A  is greater than 0 or B greater than -1.\n"
      ]
    },
    {
      "cell_type": "code",
      "metadata": {
        "id": "xX-5VikpLcHL",
        "outputId": "b96db38b-41ed-4d59-b465-4131d116f55d",
        "colab": {
          "base_uri": "https://localhost:8080/"
        }
      },
      "source": [
        "#please type your code below this line.\n",
        "import numpy as np\n",
        "import pandas as pd\n",
        "datetime= pd.date_range('2021-08-24',periods=6)\n",
        "x=pd.DataFrame(np.random.randn(6,6), index=datetime, columns=list('ABCDEF'))\n",
        "print(x,\"\\n\")\n",
        "a=x[x['A']>0]\n",
        "b=x[(x['A']>0) & (x['B']>-1)]\n",
        "c=x[(x['A']>0) | (x['B']>-1)]\n",
        "print(\"Values of the column A greater than 0\")\n",
        "print(a,\"\\n\")\n",
        "print(\"Values of the columns A  greater than 0 and B greater than\")\n",
        "print(b,\"\\n\")\n",
        "print(\"Values of the columns A  greater than 0 or B greater than\")\n",
        "print(c)\n"
      ],
      "execution_count": 4,
      "outputs": [
        {
          "output_type": "stream",
          "name": "stdout",
          "text": [
            "                   A         B         C         D         E         F\n",
            "2021-08-24  0.673080  0.111939 -0.480390 -0.158336 -0.513896  0.666771\n",
            "2021-08-25  0.877836 -1.093296  0.346812 -0.728385  0.127667  0.548273\n",
            "2021-08-26  0.071599 -1.318694  0.505090  1.371279 -1.738328 -1.354967\n",
            "2021-08-27 -0.236780 -0.980953 -0.890002  0.628230 -0.933674  0.559994\n",
            "2021-08-28 -0.524979  0.249430  1.230621 -1.432099 -0.400307  0.003219\n",
            "2021-08-29  0.864680  0.963118 -0.748583 -1.098140 -0.524721  1.119091 \n",
            "\n",
            "Values of the column A greater than 0\n",
            "                   A         B         C         D         E         F\n",
            "2021-08-24  0.673080  0.111939 -0.480390 -0.158336 -0.513896  0.666771\n",
            "2021-08-25  0.877836 -1.093296  0.346812 -0.728385  0.127667  0.548273\n",
            "2021-08-26  0.071599 -1.318694  0.505090  1.371279 -1.738328 -1.354967\n",
            "2021-08-29  0.864680  0.963118 -0.748583 -1.098140 -0.524721  1.119091 \n",
            "\n",
            "Values of the columns A  greater than 0 and B greater than\n",
            "                  A         B         C         D         E         F\n",
            "2021-08-24  0.67308  0.111939 -0.480390 -0.158336 -0.513896  0.666771\n",
            "2021-08-29  0.86468  0.963118 -0.748583 -1.098140 -0.524721  1.119091 \n",
            "\n",
            "Values of the columns A  greater than 0 or B greater than\n",
            "                   A         B         C         D         E         F\n",
            "2021-08-24  0.673080  0.111939 -0.480390 -0.158336 -0.513896  0.666771\n",
            "2021-08-25  0.877836 -1.093296  0.346812 -0.728385  0.127667  0.548273\n",
            "2021-08-26  0.071599 -1.318694  0.505090  1.371279 -1.738328 -1.354967\n",
            "2021-08-27 -0.236780 -0.980953 -0.890002  0.628230 -0.933674  0.559994\n",
            "2021-08-28 -0.524979  0.249430  1.230621 -1.432099 -0.400307  0.003219\n",
            "2021-08-29  0.864680  0.963118 -0.748583 -1.098140 -0.524721  1.119091\n"
          ]
        }
      ]
    },
    {
      "cell_type": "markdown",
      "metadata": {
        "id": "1WAf9SbwLp6o"
      },
      "source": [
        "2. Create a DataFrame by passing a random numpy array,with a dateted index and labelled columns and check if ,\n",
        "  - the values of the table are greater the zero or not.\n",
        "  - the value at the postion (0,0) is equal to NaN or not."
      ]
    },
    {
      "cell_type": "code",
      "metadata": {
        "id": "rBrt8pMeM2Q5",
        "outputId": "a1681f4d-9533-463d-90d0-33a4057cccd5",
        "colab": {
          "base_uri": "https://localhost:8080/"
        }
      },
      "source": [
        "#please type your code below this line.\n",
        "import numpy as np\n",
        "import pandas as pd\n",
        "datetime= pd.date_range('2021-08-24',periods=6)\n",
        "x=pd.DataFrame(np.random.randn(6,6), index=datetime, columns=list('ABCDEF'))\n",
        "print(x,\"\\n\")\n",
        "print(\"Values in table greater than zero or not\")\n",
        "print(x>0,\"\\n\")\n",
        "print(\"Value at the position (0,0)  equal to NaN or not \")\n",
        "print(x.iloc[[0],[0]] =='NaN')\n"
      ],
      "execution_count": 6,
      "outputs": [
        {
          "output_type": "stream",
          "name": "stdout",
          "text": [
            "                   A         B         C         D         E         F\n",
            "2021-08-24  2.101121  0.539582 -0.246267 -2.191187  1.646861  0.286251\n",
            "2021-08-25  0.054600 -1.015870  0.611946 -0.882962 -0.627666 -0.020244\n",
            "2021-08-26  0.377286 -1.867749  0.333554 -0.830454 -0.490782 -1.217216\n",
            "2021-08-27 -1.216134 -0.272165  0.807716  0.738284  0.774319 -1.993173\n",
            "2021-08-28 -0.952826  0.198218 -0.599150 -0.664045  1.041490  0.191483\n",
            "2021-08-29 -0.863789 -0.220816 -0.245584  0.312281 -0.417781  0.089266 \n",
            "\n",
            "Values in table greater than zero or not\n",
            "                A      B      C      D      E      F\n",
            "2021-08-24   True   True  False  False   True   True\n",
            "2021-08-25   True  False   True  False  False  False\n",
            "2021-08-26   True  False   True  False  False  False\n",
            "2021-08-27  False  False   True   True   True  False\n",
            "2021-08-28  False   True  False  False   True   True\n",
            "2021-08-29  False  False  False   True  False   True \n",
            "\n",
            "Value at the position (0,0)  equal to NaN or not \n",
            "                A\n",
            "2021-08-24  False\n"
          ]
        }
      ]
    },
    {
      "cell_type": "markdown",
      "metadata": {
        "id": "IfM9XYmiNaKB"
      },
      "source": [
        "3. Create a DataFrame by passing a random numpy array,with a dateted index and labelled columns and,\n",
        "  - reindex the index with even dates.\n",
        "  - create a column with values NaN.\n",
        "  - make the values of the first two index of the newly created column as 1"
      ]
    },
    {
      "cell_type": "code",
      "metadata": {
        "id": "F-w8kEfaORg3",
        "outputId": "5787bcbe-3815-4d3f-d56c-1cd49aa11e71",
        "colab": {
          "base_uri": "https://localhost:8080/"
        }
      },
      "source": [
        "#please type your answer below this line.\n",
        "import numpy as np\n",
        "import pandas as pd\n",
        "datetime= pd.date_range('2021-08-24',periods=6)\n",
        "x=pd.DataFrame(np.random.randn(6,6), index=datetime, columns=list('ABCDEF'))\n",
        "print(x,\"\\n\")\n",
        "y = x.reindex(x.index[0::2])\n",
        "print(\"Index with even dates\")\n",
        "print(y,\"\\n\")\n",
        "y['G'] = 'NaN'\n",
        "print(\"New column with values NaN \")\n",
        "print(y,\"\\n\")\n",
        "y.loc[y.index[:2],'G']=1\n",
        "print(\"First two index of  newly created column as 1 \")\n",
        "print(y)"
      ],
      "execution_count": 8,
      "outputs": [
        {
          "output_type": "stream",
          "name": "stdout",
          "text": [
            "                   A         B         C         D         E         F\n",
            "2021-08-24  0.116159 -1.412681  0.975114  0.252744 -1.665185 -0.151547\n",
            "2021-08-25 -0.656338 -0.296076 -1.793938 -1.320423 -0.192972 -1.236285\n",
            "2021-08-26 -0.493227 -1.529327  0.447074  0.397380  1.152328 -0.730914\n",
            "2021-08-27 -0.714038  1.111624 -0.947837 -1.221943 -0.083146  0.798035\n",
            "2021-08-28  2.345278 -0.208870  0.583148  0.257871 -0.591755  0.579120\n",
            "2021-08-29  0.127922 -0.671782 -0.341876 -2.126457  0.425314 -0.838805 \n",
            "\n",
            "Index with even dates\n",
            "                   A         B         C         D         E         F\n",
            "2021-08-24  0.116159 -1.412681  0.975114  0.252744 -1.665185 -0.151547\n",
            "2021-08-26 -0.493227 -1.529327  0.447074  0.397380  1.152328 -0.730914\n",
            "2021-08-28  2.345278 -0.208870  0.583148  0.257871 -0.591755  0.579120 \n",
            "\n",
            "New column with values NaN \n",
            "                   A         B         C         D         E         F    G\n",
            "2021-08-24  0.116159 -1.412681  0.975114  0.252744 -1.665185 -0.151547  NaN\n",
            "2021-08-26 -0.493227 -1.529327  0.447074  0.397380  1.152328 -0.730914  NaN\n",
            "2021-08-28  2.345278 -0.208870  0.583148  0.257871 -0.591755  0.579120  NaN \n",
            "\n",
            "First two index of  newly created column as 1 \n",
            "                   A         B         C         D         E         F    G\n",
            "2021-08-24  0.116159 -1.412681  0.975114  0.252744 -1.665185 -0.151547    1\n",
            "2021-08-26 -0.493227 -1.529327  0.447074  0.397380  1.152328 -0.730914    1\n",
            "2021-08-28  2.345278 -0.208870  0.583148  0.257871 -0.591755  0.579120  NaN\n"
          ]
        }
      ]
    }
  ]
}