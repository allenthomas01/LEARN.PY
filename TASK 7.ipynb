{
  "nbformat": 4,
  "nbformat_minor": 0,
  "metadata": {
    "colab": {
      "name": "TASK  7.ipynb",
      "provenance": [],
      "include_colab_link": true
    },
    "kernelspec": {
      "name": "python3",
      "display_name": "Python 3"
    },
    "language_info": {
      "name": "python"
    }
  },
  "cells": [
    {
      "cell_type": "markdown",
      "metadata": {
        "id": "view-in-github",
        "colab_type": "text"
      },
      "source": [
        "<a href=\"https://colab.research.google.com/github/coding-sorcerer-1/LEARN.PY/blob/main/TASK%207.ipynb\" target=\"_parent\"><img src=\"https://colab.research.google.com/assets/colab-badge.svg\" alt=\"Open In Colab\"/></a>"
      ]
    },
    {
      "cell_type": "markdown",
      "metadata": {
        "id": "b0V3vwzcydKy"
      },
      "source": [
        "1. Write a program to check whether a  string is palindrome or not using functions. \n",
        "\n",
        "   ( A function is to be created to check whether the string is palindrome and it should give the output true or false to the main program)"
      ]
    },
    {
      "cell_type": "code",
      "metadata": {
        "id": "M2Mi7EOdyxiu",
        "outputId": "df7a953d-a82b-4ec2-bdc6-eae223da8c02",
        "colab": {
          "base_uri": "https://localhost:8080/"
        }
      },
      "source": [
        "#please enter the code below this line.\n",
        "def isPalindrome(x):\n",
        "\treturn x == x[::-1]\n",
        "\n",
        "x = input(\"Enter a string \")\n",
        "\n",
        "ans = isPalindrome(x)\n",
        "\n",
        "if ans:\n",
        "\tprint(\"TRUE\")\n",
        "else:\n",
        "\tprint(\"FALSE\")"
      ],
      "execution_count": 1,
      "outputs": [
        {
          "output_type": "stream",
          "text": [
            "Enter a string malayalam\n",
            "TRUE\n"
          ],
          "name": "stdout"
        }
      ]
    },
    {
      "cell_type": "markdown",
      "metadata": {
        "id": "vSiShTyOzEz-"
      },
      "source": [
        "2.  Write a menu driven program to find largest element in L, smallest element, avg of all values, sum of all values in L. All these operation should be performed in different functions and the result should be returned.\n",
        "\n",
        "\n",
        "      L=[23,24,11,90,1,41,9,99,28,56,72]"
      ]
    },
    {
      "cell_type": "code",
      "metadata": {
        "id": "fRtMIw_CzsmO",
        "outputId": "fa25141d-5a71-4051-fe85-f2c85319f242",
        "colab": {
          "base_uri": "https://localhost:8080/"
        }
      },
      "source": [
        "#please enter the code below this line.\n",
        "def largestof(l):\n",
        "  return max(l)\n",
        "def smallestof(l):\n",
        "  return min(l)\n",
        "def avgof(l):\n",
        "  return sum(l) / len(l)\n",
        "def sumof(l):\n",
        "  return sum(l)\n",
        "l = [23, 24, 11, 90, 1, 41, 9, 99, 28, 56, 72]\n",
        "print(\"1.Largest Element\\n2.Smallest Element\\n3.Average\\n4.Sum\")\n",
        "while (1):\n",
        "  num = int(input(\"Enter your option: \"))\n",
        "  if (num == 1):\n",
        "    print(\"Largest =\",largestof(l))\n",
        "    break\n",
        "  elif (num == 2):\n",
        "    print(\"Smallest =\",smallestof(l))\n",
        "    break\n",
        "  elif (num == 3):\n",
        "    print(\"Average =\",avgof(l))\n",
        "    break\n",
        "  elif (num == 4):\n",
        "    print(\"Sum =\",sumof(l))\n",
        "    break\n",
        "  else:\n",
        "    print(\"Invalid option\")"
      ],
      "execution_count": 2,
      "outputs": [
        {
          "output_type": "stream",
          "text": [
            "1.Largest Element\n",
            "2.Smallest Element\n",
            "3.Average\n",
            "4.Sum\n",
            "Enter your option: 1\n",
            "Largest = 99\n"
          ],
          "name": "stdout"
        }
      ]
    }
  ]
}