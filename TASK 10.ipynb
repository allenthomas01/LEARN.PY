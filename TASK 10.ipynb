{
  "nbformat": 4,
  "nbformat_minor": 0,
  "metadata": {
    "colab": {
      "name": "TASK 10.ipynb",
      "provenance": [],
      "include_colab_link": true
    },
    "kernelspec": {
      "name": "python3",
      "display_name": "Python 3"
    },
    "language_info": {
      "name": "python"
    }
  },
  "cells": [
    {
      "cell_type": "markdown",
      "metadata": {
        "id": "view-in-github",
        "colab_type": "text"
      },
      "source": [
        "<a href=\"https://colab.research.google.com/github/coding-sorcerer-1/LEARN.PY/blob/main/TASK%2010.ipynb\" target=\"_parent\"><img src=\"https://colab.research.google.com/assets/colab-badge.svg\" alt=\"Open In Colab\"/></a>"
      ]
    },
    {
      "cell_type": "markdown",
      "metadata": {
        "id": "VHKxwUewxOi2"
      },
      "source": [
        "1. Generate two  3 x 3 matrix and find it's dot product and take the transpose of the answer."
      ]
    },
    {
      "cell_type": "code",
      "metadata": {
        "id": "RdyKd1CAxZtR",
        "outputId": "4a4d8955-abf7-4553-97ec-3c723a0cc991",
        "colab": {
          "base_uri": "https://localhost:8080/"
        }
      },
      "source": [
        "#please provide your answer below this line.\n",
        "import numpy\n",
        "a = numpy.arange(5,14).reshape(3,3)\n",
        "b = numpy.arange(20,29).reshape(3,3)\n",
        "dot = numpy.dot(a, b)\n",
        "t = dot.transpose()\n",
        "print(\"Matrix a is \\n\",a)\n",
        "print(\"Matrix b is \\n\",b)\n",
        "print(\"Dot product of a and b is \\n\",dot)\n",
        "print(\"Transpose of a and b is \\n\",t)\n"
      ],
      "execution_count": 6,
      "outputs": [
        {
          "output_type": "stream",
          "text": [
            "Matrix a is \n",
            " [[ 5  6  7]\n",
            " [ 8  9 10]\n",
            " [11 12 13]]\n",
            "Matrix b is \n",
            " [[20 21 22]\n",
            " [23 24 25]\n",
            " [26 27 28]]\n",
            "Dot product of a and b is \n",
            " [[420 438 456]\n",
            " [627 654 681]\n",
            " [834 870 906]]\n",
            "Transpose of a and b is \n",
            " [[420 627 834]\n",
            " [438 654 870]\n",
            " [456 681 906]]\n"
          ],
          "name": "stdout"
        }
      ]
    },
    {
      "cell_type": "markdown",
      "metadata": {
        "id": "9c9ZwiBxxf4t"
      },
      "source": [
        "2. Create a 3x3 matrix with elements [55,25,15], [30,44,2], [11,45,77] . Now find the determinant of the given matrix."
      ]
    },
    {
      "cell_type": "code",
      "metadata": {
        "id": "Anmr3C9KyNyy",
        "outputId": "8e948543-0706-4c4c-be9c-78cb8a517e4e",
        "colab": {
          "base_uri": "https://localhost:8080/"
        }
      },
      "source": [
        "#please provide your answer below this line.\n",
        "import numpy\n",
        "a = numpy.array([55,25,15,30,44,2,11,45,77]).reshape(3,3)\n",
        "print(\"The matrix a is \\n\",a)\n",
        "print(\"Determinant of a is \\n\",numpy.linalg.det(a))"
      ],
      "execution_count": 7,
      "outputs": [
        {
          "output_type": "stream",
          "text": [
            "The matrix a is \n",
            " [[55 25 15]\n",
            " [30 44  2]\n",
            " [11 45 77]]\n",
            "Determinant of a is \n",
            " 137180.0000000001\n"
          ],
          "name": "stdout"
        }
      ]
    }
  ]
}